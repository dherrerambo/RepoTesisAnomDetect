{
 "cells": [
  {
   "attachments": {},
   "cell_type": "markdown",
   "metadata": {},
   "source": [
    "# Creacion de RIPS (Anonimos)\n"
   ]
  },
  {
   "cell_type": "code",
   "execution_count": 14,
   "metadata": {},
   "outputs": [],
   "source": [
    "import time, pyperclip, datetime\n",
    "start_i = time.time()\n",
    "\n",
    "\n",
    "import pandas as pd\n",
    "import awswrangler as wr\n",
    "from tqdm import tqdm\n",
    "import seaborn as sns\n",
    "import matplotlib.pyplot as plt\n",
    "import matplotlib.dates as mdates\n",
    "\n",
    "from datatools.helpers.Utils import run_time\n",
    "from datatools.snowflake.Querys import run_sql_query"
   ]
  },
  {
   "attachments": {},
   "cell_type": "markdown",
   "metadata": {},
   "source": [
    "# creacion de tablas Rips anonimizados\n",
    "\n",
    "Criterios:\n",
    "- Facturas (AF): \n",
    "- Usuarios (US): Personas atendidas\n",
    "- Atenciones:\n",
    "    - Consulta (AC)\n",
    "    - Procedimientos (AP)\n",
    "    - Urgencias (AU)\n",
    "    - Hospitalizaciones (AH)\n",
    "    - Nacimientos (AN)\n",
    "    - Medicamentos (AM)\n",
    "    - Otros servicios (AT)"
   ]
  },
  {
   "cell_type": "code",
   "execution_count": 2,
   "metadata": {},
   "outputs": [],
   "source": [
    "sufix = \"anon\"\n",
    "database = \"vp_informacion\"\n",
    "schema = \"outliers\"\n",
    "tipos_arhivos_rips = [\"af\",\"us\",\"ac\",\"ap\",\"au\",\"ah\",\"an\",\"am\",\"at\"]"
   ]
  },
  {
   "cell_type": "code",
   "execution_count": 3,
   "metadata": {},
   "outputs": [
    {
     "data": {
      "text/plain": [
       "{'RIPS_AF__ANON': 595,\n",
       " 'RIPS_US__ANON': 485,\n",
       " 'RIPS_AC__ANON': 2078,\n",
       " 'RIPS_AP__ANON': 1890,\n",
       " 'RIPS_AU__ANON': 1624,\n",
       " 'RIPS_AH__ANON': 2208,\n",
       " 'RIPS_AN__ANON': 972,\n",
       " 'RIPS_AM__ANON': 694,\n",
       " 'RIPS_AT__ANON': 560}"
      ]
     },
     "execution_count": 3,
     "metadata": {},
     "output_type": "execute_result"
    }
   ],
   "source": [
    "querys = dict()\n",
    "for a in tipos_arhivos_rips:\n",
    "    querys[f\"rips_{a}__{sufix}\".upper()] = {\"sql\": open(f\"./querys_anon\\{a}.sql\", mode=\"r\", encoding=\"utf8\").read()}\n",
    "dict((k,len(v[\"sql\"])) for k,v in querys.items())"
   ]
  },
  {
   "cell_type": "code",
   "execution_count": 4,
   "metadata": {},
   "outputs": [
    {
     "name": "stderr",
     "output_type": "stream",
     "text": [
      "100%|██████████| 9/9 [04:48<00:00, 32.07s/it]"
     ]
    },
    {
     "name": "stdout",
     "output_type": "stream",
     "text": [
      "CPU times: total: 7.8 s\n",
      "Wall time: 4min 48s\n"
     ]
    },
    {
     "name": "stderr",
     "output_type": "stream",
     "text": [
      "\n"
     ]
    }
   ],
   "source": [
    "%%time\n",
    "\n",
    "for k,v in tqdm(querys.items(), total=len(querys)):\n",
    "    querys[k].update({\"resp\": run_sql_query(sql=v[\"sql\"], table=k, database=database, schema=schema)})"
   ]
  },
  {
   "cell_type": "code",
   "execution_count": 5,
   "metadata": {},
   "outputs": [
    {
     "name": "stdout",
     "output_type": "stream",
     "text": [
      "Tiempo de ejecucion total: 4.92min.\n",
      "Fecha de ejecucion: 2024-12-13 16:16:53.092541\n"
     ]
    }
   ],
   "source": [
    "run_time(start_i)"
   ]
  },
  {
   "cell_type": "code",
   "execution_count": null,
   "metadata": {},
   "outputs": [],
   "source": []
  }
 ],
 "metadata": {
  "kernelspec": {
   "display_name": "Python 3",
   "language": "python",
   "name": "python3"
  },
  "language_info": {
   "codemirror_mode": {
    "name": "ipython",
    "version": 3
   },
   "file_extension": ".py",
   "mimetype": "text/x-python",
   "name": "python",
   "nbconvert_exporter": "python",
   "pygments_lexer": "ipython3",
   "version": "3.10.11"
  },
  "orig_nbformat": 4,
  "vscode": {
   "interpreter": {
    "hash": "11938c6bc6919ae2720b4d5011047913343b08a43b18698fd82dedb0d4417594"
   }
  }
 },
 "nbformat": 4,
 "nbformat_minor": 2
}
