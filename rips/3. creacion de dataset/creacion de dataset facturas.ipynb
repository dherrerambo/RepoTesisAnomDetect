{
 "cells": [
  {
   "cell_type": "code",
   "execution_count": 1,
   "metadata": {},
   "outputs": [],
   "source": [
    "import time, pyperclip\n",
    "start_i = time.time()\n",
    "\n",
    "import pandas as pd\n",
    "from tqdm import tqdm\n",
    "from datatools.snowflake.Querys import run_sql_query\n",
    "from datatools.helpers.Utils import run_time"
   ]
  },
  {
   "cell_type": "code",
   "execution_count": 2,
   "metadata": {},
   "outputs": [],
   "source": [
    "archivos = ['af','us','ac','ap','au','ah','an','am','at']"
   ]
  },
  {
   "cell_type": "code",
   "execution_count": 3,
   "metadata": {},
   "outputs": [],
   "source": [
    "snow_database   = \"vp_informacion\"\n",
    "snow_schema     = \"outliers\""
   ]
  },
  {
   "cell_type": "code",
   "execution_count": 4,
   "metadata": {},
   "outputs": [
    {
     "name": "stderr",
     "output_type": "stream",
     "text": [
      "100%|██████████| 9/9 [15:34<00:00, 103.84s/it]"
     ]
    },
    {
     "name": "stdout",
     "output_type": "stream",
     "text": [
      "CPU times: total: 7.73 s\n",
      "Wall time: 15min 34s\n"
     ]
    },
    {
     "name": "stderr",
     "output_type": "stream",
     "text": [
      "\n"
     ]
    }
   ],
   "source": [
    "%%time\n",
    "\n",
    "resp = dict()\n",
    "\n",
    "for a in tqdm(archivos):\n",
    "    sql = open(f\"./querys/dataset/{a}.sql\", mode=\"r\", encoding=\"utf8\").read()\n",
    "    try:\n",
    "        pyperclip.copy(sql)\n",
    "    except:\n",
    "        pass\n",
    "    table = f\"df_{a}\"\n",
    "    resp[a] = run_sql_query(sql=sql, table=table, database=snow_database, schema=snow_schema)"
   ]
  },
  {
   "cell_type": "code",
   "execution_count": 8,
   "metadata": {},
   "outputs": [
    {
     "data": {
      "text/plain": [
       "{'af': 'Table DF_AF successfully created.',\n",
       " 'us': 'Table DF_US successfully created.',\n",
       " 'ac': 'Table DF_AC successfully created.',\n",
       " 'ap': 'Table DF_AP successfully created.',\n",
       " 'au': 'Table DF_AU successfully created.',\n",
       " 'ah': 'Table DF_AH successfully created.',\n",
       " 'an': 'Table DF_AN successfully created.',\n",
       " 'am': 'Table DF_AM successfully created.',\n",
       " 'at': 'Table DF_AT successfully created.'}"
      ]
     },
     "execution_count": 8,
     "metadata": {},
     "output_type": "execute_result"
    }
   ],
   "source": [
    "dict((k,v[\"status\"].iloc[0]) for k,v in resp.items())"
   ]
  },
  {
   "cell_type": "code",
   "execution_count": 9,
   "metadata": {},
   "outputs": [
    {
     "data": {
      "text/html": [
       "<div>\n",
       "<style scoped>\n",
       "    .dataframe tbody tr th:only-of-type {\n",
       "        vertical-align: middle;\n",
       "    }\n",
       "\n",
       "    .dataframe tbody tr th {\n",
       "        vertical-align: top;\n",
       "    }\n",
       "\n",
       "    .dataframe thead th {\n",
       "        text-align: right;\n",
       "    }\n",
       "</style>\n",
       "<table border=\"1\" class=\"dataframe\">\n",
       "  <thead>\n",
       "    <tr style=\"text-align: right;\">\n",
       "      <th></th>\n",
       "      <th>TABLA</th>\n",
       "      <th>CARGAS</th>\n",
       "      <th>REG</th>\n",
       "      <th>FACTURAS</th>\n",
       "    </tr>\n",
       "  </thead>\n",
       "  <tbody>\n",
       "    <tr>\n",
       "      <th>0</th>\n",
       "      <td>at</td>\n",
       "      <td>205685</td>\n",
       "      <td>2099569</td>\n",
       "      <td>2099569.0</td>\n",
       "    </tr>\n",
       "    <tr>\n",
       "      <th>1</th>\n",
       "      <td>am</td>\n",
       "      <td>224340</td>\n",
       "      <td>2480503</td>\n",
       "      <td>2480503.0</td>\n",
       "    </tr>\n",
       "    <tr>\n",
       "      <th>2</th>\n",
       "      <td>an</td>\n",
       "      <td>9573</td>\n",
       "      <td>33717</td>\n",
       "      <td>33717.0</td>\n",
       "    </tr>\n",
       "    <tr>\n",
       "      <th>3</th>\n",
       "      <td>au</td>\n",
       "      <td>76092</td>\n",
       "      <td>478996</td>\n",
       "      <td>478996.0</td>\n",
       "    </tr>\n",
       "    <tr>\n",
       "      <th>4</th>\n",
       "      <td>ap</td>\n",
       "      <td>277757</td>\n",
       "      <td>5647970</td>\n",
       "      <td>5647970.0</td>\n",
       "    </tr>\n",
       "    <tr>\n",
       "      <th>5</th>\n",
       "      <td>ac</td>\n",
       "      <td>242519</td>\n",
       "      <td>4222144</td>\n",
       "      <td>4222144.0</td>\n",
       "    </tr>\n",
       "    <tr>\n",
       "      <th>6</th>\n",
       "      <td>af</td>\n",
       "      <td>388438</td>\n",
       "      <td>10541692</td>\n",
       "      <td>10541692.0</td>\n",
       "    </tr>\n",
       "    <tr>\n",
       "      <th>7</th>\n",
       "      <td>us</td>\n",
       "      <td>388427</td>\n",
       "      <td>388427</td>\n",
       "      <td>NaN</td>\n",
       "    </tr>\n",
       "  </tbody>\n",
       "</table>\n",
       "</div>"
      ],
      "text/plain": [
       "  TABLA  CARGAS       REG    FACTURAS\n",
       "0    at  205685   2099569   2099569.0\n",
       "1    am  224340   2480503   2480503.0\n",
       "2    an    9573     33717     33717.0\n",
       "3    au   76092    478996    478996.0\n",
       "4    ap  277757   5647970   5647970.0\n",
       "5    ac  242519   4222144   4222144.0\n",
       "6    af  388438  10541692  10541692.0\n",
       "7    us  388427    388427         NaN"
      ]
     },
     "execution_count": 9,
     "metadata": {},
     "output_type": "execute_result"
    }
   ],
   "source": [
    "sql = f\"\"\"SELECT 'at' as tabla, count(DISTINCT id_carga) AS cargas, count(*) AS reg, count(DISTINCT concat_ws('-',id_carga,factura)) AS facturas FROM {snow_database}.{snow_schema}.df_at\n",
    "UNION ALL\n",
    "SELECT 'am', count(DISTINCT id_carga) AS cargas, count(*) AS reg, count(DISTINCT concat_ws('-',id_carga,factura)) AS facturas FROM {snow_database}.{snow_schema}.df_am\n",
    "UNION ALL\n",
    "SELECT 'an', count(DISTINCT id_carga) AS cargas, count(*) AS reg, count(DISTINCT concat_ws('-',id_carga,factura)) AS facturas FROM {snow_database}.{snow_schema}.df_an\n",
    "UNION ALL\n",
    "SELECT 'au', count(DISTINCT id_carga) AS cargas, count(*) AS reg, count(DISTINCT concat_ws('-',id_carga,factura)) AS facturas FROM {snow_database}.{snow_schema}.df_au\n",
    "UNION ALL\n",
    "SELECT 'ap', count(DISTINCT id_carga) AS cargas, count(*) AS reg, count(DISTINCT concat_ws('-',id_carga,factura)) AS facturas FROM {snow_database}.{snow_schema}.df_ap\n",
    "UNION ALL\n",
    "SELECT 'ac', count(DISTINCT id_carga) AS cargas, count(*) AS reg, count(DISTINCT concat_ws('-',id_carga,factura)) AS facturas FROM {snow_database}.{snow_schema}.df_ac\n",
    "UNION ALL\n",
    "SELECT 'af', count(DISTINCT id_carga) AS cargas, count(*) AS reg, count(DISTINCT concat_ws('-',id_carga,factura)) AS facturas FROM {snow_database}.{snow_schema}.df_af\n",
    "UNION ALL\n",
    "SELECT 'us', count(DISTINCT id_carga) AS cargas, count(*) AS reg, NULL AS facturas FROM {snow_database}.{snow_schema}.df_us\"\"\"\n",
    "aaa = run_sql_query(sql)\n",
    "aaa"
   ]
  },
  {
   "cell_type": "code",
   "execution_count": 11,
   "metadata": {},
   "outputs": [
    {
     "name": "stdout",
     "output_type": "stream",
     "text": [
      "Tiempo de ejecucion total: 16.04min.\n",
      "Fecha de ejecucion: 2024-12-16 09:44:01.103293\n"
     ]
    }
   ],
   "source": [
    "run_time(start_i)"
   ]
  },
  {
   "cell_type": "markdown",
   "metadata": {},
   "source": [
    "# Dataset"
   ]
  },
  {
   "cell_type": "code",
   "execution_count": 13,
   "metadata": {},
   "outputs": [],
   "source": [
    "a = \"dataset\"\n",
    "\n",
    "try:\n",
    "    resp\n",
    "except:\n",
    "    resp = dict()"
   ]
  },
  {
   "cell_type": "code",
   "execution_count": 14,
   "metadata": {},
   "outputs": [
    {
     "name": "stdout",
     "output_type": "stream",
     "text": [
      "vp_informacion.outliers.dataset Table DATASET successfully created.\n",
      "CPU times: total: 797 ms\n",
      "Wall time: 37.9 s\n"
     ]
    }
   ],
   "source": [
    "%%time\n",
    "sql = open(f\"./querys/dataset/{a}.sql\", mode=\"r\", encoding=\"utf8\").read()\n",
    "try:\n",
    "    pyperclip.copy(sql)\n",
    "except:\n",
    "    pass\n",
    "resp[a] = run_sql_query(sql=sql, table=a, database=snow_database, schema=snow_schema)\n",
    "print(f\"{snow_database}.{snow_schema}.{a}\", resp[a][\"status\"][0])"
   ]
  },
  {
   "cell_type": "markdown",
   "metadata": {},
   "source": [
    "EDA dataset"
   ]
  },
  {
   "cell_type": "code",
   "execution_count": 15,
   "metadata": {},
   "outputs": [],
   "source": [
    "from datatools.snowflake.Conn import load_snowflake_params\n",
    "from snowflake.snowpark import Session"
   ]
  },
  {
   "cell_type": "code",
   "execution_count": 16,
   "metadata": {},
   "outputs": [
    {
     "data": {
      "text/plain": [
       "<snowflake.snowpark.session.Session at 0x2c52c3f2410>"
      ]
     },
     "execution_count": 16,
     "metadata": {},
     "output_type": "execute_result"
    }
   ],
   "source": [
    "params_snow = load_snowflake_params()\n",
    "session = Session.builder.configs(params_snow).create()\n",
    "session"
   ]
  },
  {
   "cell_type": "code",
   "execution_count": 17,
   "metadata": {},
   "outputs": [
    {
     "name": "stdout",
     "output_type": "stream",
     "text": [
      "----------------------------------------------------------------------------------------------------------------------------------------------------------------------------------------------------------------------------------------------------------------------------------------------------------------------------------------------------------------------------------------------------------------------------------------------------------------------------------------------------------------------------------------------------------------------------------------------------------------------------------------------------------------------------------------------------------------------------------------------------------------------------------------------------------------------------------------------------------------------------------------------------------------------------------------------------------------------------------------------------------------------------------------------------------------------------------------------------------------------------------------------------------------------------------------------------------------------------------------------------------------------------------------------------------------------------------------------------------------------------------------------------------------------------------------------------------------------------------------------------------------------------------------------------------------------------------------------------------------------------------------------------------------------------------------------------------------------------------------------------------------------------------------------------------------------------------------------------------------------------------------------------------------------------------------------------------------------------------------------------------------------------------------------------------------------------------------------------------------------------------------------------------------------------------------------------------------------------------------------------------------------------------------------------------------------------------------------------------------------------------------------------------------------------------------------------------------------------------------------------------------------------------------------------------------------------------------------------------------------------------------------\n",
      "|\"ID\"                                     |\"FACTURA\"                         |\"ID_CARGA\"  |\"PRESTADOR\"                       |\"PERIODO_FIN_ANO\"  |\"PERIODO_FIN_MES\"  |\"DURACION_FACTURACION\"  |\"REGIMEN\"  |\"CONTRATO\"                        |\"VALOR_COPAGO\"  |\"VALOR_COMISION\"  |\"VALOR_DESCUENTOS\"  |\"VALOR_FACTURA\"  |\"PERSONAS_UNICAS\"  |\"MUJERES\"  |\"HOMBRES\"  |\"PERSONAS_RURAL\"  |\"PERSONAS_C\"  |\"PERSONAS_VICTIMA\"  |\"EDAD_AVG\"          |\"EDAD_STD\"          |\"EDAD_P50\"  |\"REG_CONSULTAS\"  |\"PERSONAS_UNICAS_CON_CONSULTAS\"  |\"MUJERES_CON_CONSULTAS\"  |\"MENORES_CON_CONSULTAS\"  |\"AVG_PERSONAS_CON_CONSULTAS\"  |\"NUM_CONSULTAS_MUJERES\"  |\"NUM_CONSULTAS_MENORES\"  |\"NUM_CONSULTAS_RURALES\"  |\"NUM_CONSULTAS_DX_CONF\"  |\"COD_CONSULTAS_UNICOS\"  |\"DX_CONSULTA_UNICOS\"  |\"SUM_VALOR_CONSULTAS\"  |\"AVG_POR_CONSULTA\"  |\"REG_PROCED\"  |\"PERSONAS_UNICAS_CON_PROCED\"  |\"MUJERES_CON_PROCED\"  |\"MENORES_CON_PROCED\"  |\"AVG_PERSONAS_CON_PROCED\"  |\"NUM_PROCED_MUJERES\"  |\"NUM_PROCED_MENORES\"  |\"NUM_PROCED_RURALES\"  |\"COD_PROCED_UNICOS\"  |\"PROCED_AMBITO_HOSP\"  |\"PROCED_AMBITO_URG\"  |\"PROCED_PARA_DX\"  |\"PROCED_PARA_TERAPIA\"  |\"PROCED_MEDICO\"  |\"PROCED_CON_COMPLICACIONES\"  |\"SUM_VALOR_PROCED\"  |\"AVG_VALOR_PROM\"  |\"REG_URG\"  |\"PERSONAS_UNICAS_CON_URG\"  |\"MUJERES_CON_URG\"  |\"MENORES_CON_URG\"  |\"AVG_PERSONAS_CON_URG\"  |\"NUM_URG_MUJERES\"  |\"NUM_URG_MENORES\"  |\"NUM_URG_RURALES\"  |\"NUM_INGRESOS_URG\"  |\"AVG_ESTANCIA_URG\"  |\"PERSONAS_FALLECIDAS_URG\"  |\"REG_HOSP\"  |\"PERSONAS_UNICAS_CON_HOSP\"  |\"MUJERES_CON_HOSP\"  |\"MENORES_CON_HOSP\"  |\"AVG_PERSONAS_CON_HOSP\"  |\"NUM_HOSP_MUJERES\"  |\"NUM_HOSP_MENORES\"  |\"NUM_HOSP_RURALES\"  |\"NUM_HOSP\"  |\"AVG_ESTANCIA_HOSP\"  |\"STD_ESTANCIA_HOSP\"  |\"P50_ESTANCIA_HOSP\"  |\"PERSONAS_FALLECIDAS_HOSP\"  |\"REG_NAC\"  |\"PERSONAS_UNICAS_CON_NAC\"  |\"MUJERES_CON_NAC\"  |\"MENORES_CON_NAC\"  |\"AVG_PERSONAS_CON_NAC\"  |\"NUM_NAC_MUJERES\"  |\"NUM_NAC_MENORES\"  |\"NUM_NAC_RURALES\"  |\"NUM_RN_MUJERES\"  |\"AVG_EDAD_GEST\"  |\"STD_EDAD_GEST\"  |\"AVG_PESO_RN\"  |\"STD_PESO_RN\"  |\"NUM_NAC_VIVO\"  |\"REG_MED\"  |\"PERSONAS_UNICAS_CON_MED\"  |\"MUJERES_CON_MED\"  |\"MENORES_CON_MED\"  |\"AVG_PERSONAS_CON_MED\"  |\"NUM_MED_MUJERES\"  |\"NUM_MED_MENORES\"  |\"NUM_MED_RURALES\"  |\"NUM_MED\"  |\"NUM_MED_NOPBS\"  |\"MED_PBS_CANTIDAD\"  |\"AVG_MED_PBS_CANTIDAD\"  |\"STD_MED_PBS_CANTIDAD\"  |\"P50_MED_PBS_CANTIDAD\"  |\"MED_PBS_VALOR\"  |\"AVG_MED_PBS_VALOR\"  |\"STD_MED_PBS_VALOR\"  |\"P50_MED_PBS_VALOR\"  |\"MED_NOPBS_CANTIDAD\"  |\"AVG_MED_NOPBS_CANTIDAD\"  |\"STD_MED_NOPBS_CANTIDAD\"  |\"P50_MED_NOPBS_CANTIDAD\"  |\"MED_NOPBS_VALOR\"  |\"AVG_MED_NOPBS_VALOR\"  |\"STD_MED_NOPBS_VALOR\"  |\"P50_MED_NOPBS_VALOR\"  |\n",
      "----------------------------------------------------------------------------------------------------------------------------------------------------------------------------------------------------------------------------------------------------------------------------------------------------------------------------------------------------------------------------------------------------------------------------------------------------------------------------------------------------------------------------------------------------------------------------------------------------------------------------------------------------------------------------------------------------------------------------------------------------------------------------------------------------------------------------------------------------------------------------------------------------------------------------------------------------------------------------------------------------------------------------------------------------------------------------------------------------------------------------------------------------------------------------------------------------------------------------------------------------------------------------------------------------------------------------------------------------------------------------------------------------------------------------------------------------------------------------------------------------------------------------------------------------------------------------------------------------------------------------------------------------------------------------------------------------------------------------------------------------------------------------------------------------------------------------------------------------------------------------------------------------------------------------------------------------------------------------------------------------------------------------------------------------------------------------------------------------------------------------------------------------------------------------------------------------------------------------------------------------------------------------------------------------------------------------------------------------------------------------------------------------------------------------------------------------------------------------------------------------------------------------------------------------------------------------------------------------------------------------------------------\n",
      "|09F73748F941525157190BE32F0D4C8A-650390  |09F73748F941525157190BE32F0D4C8A  |650390      |969E45180BDA1B30F53C8EBE895FC17B  |2021               |5                  |0.032856                |S          |85E11F86DC4114FF6FB7AEE3F5C49F55  |0.0             |0.0               |0.0                 |293700.0         |66                 |40         |26         |58                |0             |0                   |56.57575757575758   |24.567057746916426  |61.5        |0                |0                                |0                        |0                        |0.0                           |0                        |0                        |0                        |0                        |0                       |0                     |0.0                    |0.0                 |0             |0                             |0                     |0                     |0.0                        |0                     |0                     |0                     |0                    |0                     |0                    |0                 |0                      |0                |0                            |0.0                 |0.0               |0          |0                          |0                  |0                  |0.0                     |0                  |0                  |0                  |0                   |0.000000            |0                          |0           |0                           |0                   |0                   |0.0                      |0                   |0                   |0                   |0           |0.000000             |0.0                  |0.0                  |0                           |0          |0                          |0                  |0                  |0.0                     |0                  |0                  |0                  |0                 |0.0              |0.0              |0.0            |0.0            |0               |0          |0                          |0                  |0                  |0.0                     |0                  |0                  |0                  |0          |0                |0.0                 |0.0                     |0.0                     |0.0                     |0.0              |0.0                  |0.0                  |0.0                  |0.0                   |0.0                       |0.0                       |0.0                       |0.0                |0.0                    |0.0                    |0.0                    |\n",
      "|D6BDDEFD6202685083C43A43DB49ED9F-289946  |D6BDDEFD6202685083C43A43DB49ED9F  |289946      |969E45180BDA1B30F53C8EBE895FC17B  |2020               |4                  |0.032856                |S          |85E11F86DC4114FF6FB7AEE3F5C49F55  |0.0             |0.0               |0.0                 |17821.0          |215                |131        |84         |192               |0             |0                   |50.14418604651163   |19.47518553323716   |54.0        |0                |0                                |0                        |0                        |0.0                           |0                        |0                        |0                        |0                        |0                       |0                     |0.0                    |0.0                 |0             |0                             |0                     |0                     |0.0                        |0                     |0                     |0                     |0                    |0                     |0                    |0                 |0                      |0                |0                            |0.0                 |0.0               |0          |0                          |0                  |0                  |0.0                     |0                  |0                  |0                  |0                   |0.000000            |0                          |0           |0                           |0                   |0                   |0.0                      |0                   |0                   |0                   |0           |0.000000             |0.0                  |0.0                  |0                           |0          |0                          |0                  |0                  |0.0                     |0                  |0                  |0                  |0                 |0.0              |0.0              |0.0            |0.0            |0               |1          |1                          |1                  |0                  |68.0                    |1                  |0                  |1                  |1          |0                |1.0                 |1.0                     |0.0                     |1.0                     |17821.0          |17821.0              |0.0                  |17821.0              |0.0                   |0.0                       |0.0                       |0.0                       |0.0                |0.0                    |0.0                    |0.0                    |\n",
      "|6D18C1FDE190A74DEF1396BEED53CB8D-830024  |6D18C1FDE190A74DEF1396BEED53CB8D  |830024      |969E45180BDA1B30F53C8EBE895FC17B  |2021               |10                 |0.032856                |S          |85E11F86DC4114FF6FB7AEE3F5C49F55  |0.0             |0.0               |0.0                 |44000.0          |211                |155        |56         |142               |0             |0                   |53.90995260663507   |17.309959849686052  |58.0        |0                |0                                |0                        |0                        |0.0                           |0                        |0                        |0                        |0                        |0                       |0                     |0.0                    |0.0                 |0             |0                             |0                     |0                     |0.0                        |0                     |0                     |0                     |0                    |0                     |0                    |0                 |0                      |0                |0                            |0.0                 |0.0               |0          |0                          |0                  |0                  |0.0                     |0                  |0                  |0                  |0                   |0.000000            |0                          |0           |0                           |0                   |0                   |0.0                      |0                   |0                   |0                   |0           |0.000000             |0.0                  |0.0                  |0                           |0          |0                          |0                  |0                  |0.0                     |0                  |0                  |0                  |0                 |0.0              |0.0              |0.0            |0.0            |0               |1          |1                          |1                  |0                  |47.0                    |1                  |0                  |1                  |1          |0                |1.0                 |1.0                     |0.0                     |1.0                     |36000.0          |36000.0              |0.0                  |36000.0              |0.0                   |0.0                       |0.0                       |0.0                       |0.0                |0.0                    |0.0                    |0.0                    |\n",
      "|33B0ED3318C6D03084AF7353B92D3AF2-336512  |33B0ED3318C6D03084AF7353B92D3AF2  |336512      |A2D45E9079957919469256A30EF90EE2  |2020               |5                  |0.032856                |S          |4E85102DDC51073E04577EA78ABD8F72  |0.0             |0.0               |0.0                 |10944.0          |914                |587        |327        |7                 |0             |0                   |63.637855579868706  |13.239024684088733  |64.0        |1                |1                                |1                        |0                        |83.0                          |1                        |0                        |0                        |0                        |1                       |1                     |10944.0                |10944.0             |0             |0                             |0                     |0                     |0.0                        |0                     |0                     |0                     |0                    |0                     |0                    |0                 |0                      |0                |0                            |0.0                 |0.0               |0          |0                          |0                  |0                  |0.0                     |0                  |0                  |0                  |0                   |0.000000            |0                          |0           |0                           |0                   |0                   |0.0                      |0                   |0                   |0                   |0           |0.000000             |0.0                  |0.0                  |0                           |0          |0                          |0                  |0                  |0.0                     |0                  |0                  |0                  |0                 |0.0              |0.0              |0.0            |0.0            |0               |0          |0                          |0                  |0                  |0.0                     |0                  |0                  |0                  |0          |0                |0.0                 |0.0                     |0.0                     |0.0                     |0.0              |0.0                  |0.0                  |0.0                  |0.0                   |0.0                       |0.0                       |0.0                       |0.0                |0.0                    |0.0                    |0.0                    |\n",
      "|DF53D8DAB84AD9229D10CF8FC2460EBA-661554  |DF53D8DAB84AD9229D10CF8FC2460EBA  |661554      |969E45180BDA1B30F53C8EBE895FC17B  |2021               |6                  |0.032856                |S          |85E11F86DC4114FF6FB7AEE3F5C49F55  |0.0             |0.0               |0.0                 |5100.0           |60                 |38         |22         |3                 |0             |0                   |50.5                |21.934803240976176  |54.5        |0                |0                                |0                        |0                        |0.0                           |0                        |0                        |0                        |0                        |0                       |0                     |0.0                    |0.0                 |0             |0                             |0                     |0                     |0.0                        |0                     |0                     |0                     |0                    |0                     |0                    |0                 |0                      |0                |0                            |0.0                 |0.0               |0          |0                          |0                  |0                  |0.0                     |0                  |0                  |0                  |0                   |0.000000            |0                          |0           |0                           |0                   |0                   |0.0                      |0                   |0                   |0                   |0           |0.000000             |0.0                  |0.0                  |0                           |0          |0                          |0                  |0                  |0.0                     |0                  |0                  |0                  |0                 |0.0              |0.0              |0.0            |0.0            |0               |2          |1                          |1                  |0                  |25.0                    |2                  |0                  |0                  |2          |0                |5.0                 |2.5                     |2.1213203435596424      |2.5                     |5100.0           |2062.5               |2457.196064623253    |2062.5               |0.0                   |0.0                       |0.0                       |0.0                       |0.0                |0.0                    |0.0                    |0.0                    |\n",
      "----------------------------------------------------------------------------------------------------------------------------------------------------------------------------------------------------------------------------------------------------------------------------------------------------------------------------------------------------------------------------------------------------------------------------------------------------------------------------------------------------------------------------------------------------------------------------------------------------------------------------------------------------------------------------------------------------------------------------------------------------------------------------------------------------------------------------------------------------------------------------------------------------------------------------------------------------------------------------------------------------------------------------------------------------------------------------------------------------------------------------------------------------------------------------------------------------------------------------------------------------------------------------------------------------------------------------------------------------------------------------------------------------------------------------------------------------------------------------------------------------------------------------------------------------------------------------------------------------------------------------------------------------------------------------------------------------------------------------------------------------------------------------------------------------------------------------------------------------------------------------------------------------------------------------------------------------------------------------------------------------------------------------------------------------------------------------------------------------------------------------------------------------------------------------------------------------------------------------------------------------------------------------------------------------------------------------------------------------------------------------------------------------------------------------------------------------------------------------------------------------------------------------------------------------------------------------------------------------------------------------------------------\n",
      "\n"
     ]
    }
   ],
   "source": [
    "DF = session.table(f\"{snow_database}.{snow_schema}.{a}\")\n",
    "DF.show(5)"
   ]
  },
  {
   "cell_type": "code",
   "execution_count": 18,
   "metadata": {},
   "outputs": [
    {
     "data": {
      "text/html": [
       "<div>\n",
       "<style scoped>\n",
       "    .dataframe tbody tr th:only-of-type {\n",
       "        vertical-align: middle;\n",
       "    }\n",
       "\n",
       "    .dataframe tbody tr th {\n",
       "        vertical-align: top;\n",
       "    }\n",
       "\n",
       "    .dataframe thead th {\n",
       "        text-align: right;\n",
       "    }\n",
       "</style>\n",
       "<table border=\"1\" class=\"dataframe\">\n",
       "  <thead>\n",
       "    <tr style=\"text-align: right;\">\n",
       "      <th>SUMMARY</th>\n",
       "      <th>min</th>\n",
       "      <th>stddev</th>\n",
       "      <th>count</th>\n",
       "      <th>max</th>\n",
       "      <th>mean</th>\n",
       "    </tr>\n",
       "  </thead>\n",
       "  <tbody>\n",
       "    <tr>\n",
       "      <th>ID</th>\n",
       "      <td>00000230D6FD9CB5B56A99D25FDB7E54-1368091</td>\n",
       "      <td>None</td>\n",
       "      <td>10541692</td>\n",
       "      <td>FFFFFFC31AB6C83140B4591702468633-993797</td>\n",
       "      <td>None</td>\n",
       "    </tr>\n",
       "    <tr>\n",
       "      <th>FACTURA</th>\n",
       "      <td>00000230D6FD9CB5B56A99D25FDB7E54</td>\n",
       "      <td>None</td>\n",
       "      <td>10541692</td>\n",
       "      <td>FFFFFFC31AB6C83140B4591702468633</td>\n",
       "      <td>None</td>\n",
       "    </tr>\n",
       "    <tr>\n",
       "      <th>ID_CARGA</th>\n",
       "      <td>185690.0</td>\n",
       "      <td>395716.592811</td>\n",
       "      <td>10541692</td>\n",
       "      <td>2461450.0</td>\n",
       "      <td>919989.429907</td>\n",
       "    </tr>\n",
       "    <tr>\n",
       "      <th>PRESTADOR</th>\n",
       "      <td>009056BA9CC7ABB424251C0F257B3642</td>\n",
       "      <td>None</td>\n",
       "      <td>10541692</td>\n",
       "      <td>FFC81C0EC1DEFA9F959DE691C0D3DF7F</td>\n",
       "      <td>None</td>\n",
       "    </tr>\n",
       "    <tr>\n",
       "      <th>PERIODO_FIN_ANO</th>\n",
       "      <td>2020.0</td>\n",
       "      <td>0.755683</td>\n",
       "      <td>10541692</td>\n",
       "      <td>2022.0</td>\n",
       "      <td>2021.236405</td>\n",
       "    </tr>\n",
       "    <tr>\n",
       "      <th>...</th>\n",
       "      <td>...</td>\n",
       "      <td>...</td>\n",
       "      <td>...</td>\n",
       "      <td>...</td>\n",
       "      <td>...</td>\n",
       "    </tr>\n",
       "    <tr>\n",
       "      <th>P50_MED_NOPBS_CANTIDAD</th>\n",
       "      <td>0.0</td>\n",
       "      <td>529.294661</td>\n",
       "      <td>10541692</td>\n",
       "      <td>851400.0</td>\n",
       "      <td>1.990783</td>\n",
       "    </tr>\n",
       "    <tr>\n",
       "      <th>MED_NOPBS_VALOR</th>\n",
       "      <td>0.0</td>\n",
       "      <td>1312113.851649</td>\n",
       "      <td>10541692</td>\n",
       "      <td>1694309058.0</td>\n",
       "      <td>39607.356426</td>\n",
       "    </tr>\n",
       "    <tr>\n",
       "      <th>AVG_MED_NOPBS_VALOR</th>\n",
       "      <td>0.0</td>\n",
       "      <td>268868.498447</td>\n",
       "      <td>10541692</td>\n",
       "      <td>115284794.0</td>\n",
       "      <td>8646.003388</td>\n",
       "    </tr>\n",
       "    <tr>\n",
       "      <th>STD_MED_NOPBS_VALOR</th>\n",
       "      <td>0.0</td>\n",
       "      <td>42621.985801</td>\n",
       "      <td>10541692</td>\n",
       "      <td>61010544.005275</td>\n",
       "      <td>497.846088</td>\n",
       "    </tr>\n",
       "    <tr>\n",
       "      <th>P50_MED_NOPBS_VALOR</th>\n",
       "      <td>0.0</td>\n",
       "      <td>268461.318111</td>\n",
       "      <td>10541692</td>\n",
       "      <td>115284794.0</td>\n",
       "      <td>8581.32086</td>\n",
       "    </tr>\n",
       "  </tbody>\n",
       "</table>\n",
       "<p>116 rows × 5 columns</p>\n",
       "</div>"
      ],
      "text/plain": [
       "SUMMARY                                                      min  \\\n",
       "ID                      00000230D6FD9CB5B56A99D25FDB7E54-1368091   \n",
       "FACTURA                         00000230D6FD9CB5B56A99D25FDB7E54   \n",
       "ID_CARGA                                                185690.0   \n",
       "PRESTADOR                       009056BA9CC7ABB424251C0F257B3642   \n",
       "PERIODO_FIN_ANO                                           2020.0   \n",
       "...                                                          ...   \n",
       "P50_MED_NOPBS_CANTIDAD                                       0.0   \n",
       "MED_NOPBS_VALOR                                              0.0   \n",
       "AVG_MED_NOPBS_VALOR                                          0.0   \n",
       "STD_MED_NOPBS_VALOR                                          0.0   \n",
       "P50_MED_NOPBS_VALOR                                          0.0   \n",
       "\n",
       "SUMMARY                         stddev     count  \\\n",
       "ID                                None  10541692   \n",
       "FACTURA                           None  10541692   \n",
       "ID_CARGA                 395716.592811  10541692   \n",
       "PRESTADOR                         None  10541692   \n",
       "PERIODO_FIN_ANO               0.755683  10541692   \n",
       "...                                ...       ...   \n",
       "P50_MED_NOPBS_CANTIDAD      529.294661  10541692   \n",
       "MED_NOPBS_VALOR         1312113.851649  10541692   \n",
       "AVG_MED_NOPBS_VALOR      268868.498447  10541692   \n",
       "STD_MED_NOPBS_VALOR       42621.985801  10541692   \n",
       "P50_MED_NOPBS_VALOR      268461.318111  10541692   \n",
       "\n",
       "SUMMARY                                                     max           mean  \n",
       "ID                      FFFFFFC31AB6C83140B4591702468633-993797           None  \n",
       "FACTURA                        FFFFFFC31AB6C83140B4591702468633           None  \n",
       "ID_CARGA                                              2461450.0  919989.429907  \n",
       "PRESTADOR                      FFC81C0EC1DEFA9F959DE691C0D3DF7F           None  \n",
       "PERIODO_FIN_ANO                                          2022.0    2021.236405  \n",
       "...                                                         ...            ...  \n",
       "P50_MED_NOPBS_CANTIDAD                                 851400.0       1.990783  \n",
       "MED_NOPBS_VALOR                                    1694309058.0   39607.356426  \n",
       "AVG_MED_NOPBS_VALOR                                 115284794.0    8646.003388  \n",
       "STD_MED_NOPBS_VALOR                             61010544.005275     497.846088  \n",
       "P50_MED_NOPBS_VALOR                                 115284794.0     8581.32086  \n",
       "\n",
       "[116 rows x 5 columns]"
      ]
     },
     "execution_count": 18,
     "metadata": {},
     "output_type": "execute_result"
    }
   ],
   "source": [
    "desc = pd.DataFrame(DF.describe().collect())\n",
    "desc = desc.set_index(\"SUMMARY\").T\n",
    "desc[\"count\"] = desc[\"count\"].astype(int)\n",
    "desc"
   ]
  },
  {
   "cell_type": "code",
   "execution_count": 19,
   "metadata": {},
   "outputs": [
    {
     "data": {
      "text/html": [
       "<div>\n",
       "<style scoped>\n",
       "    .dataframe tbody tr th:only-of-type {\n",
       "        vertical-align: middle;\n",
       "    }\n",
       "\n",
       "    .dataframe tbody tr th {\n",
       "        vertical-align: top;\n",
       "    }\n",
       "\n",
       "    .dataframe thead th {\n",
       "        text-align: right;\n",
       "    }\n",
       "</style>\n",
       "<table border=\"1\" class=\"dataframe\">\n",
       "  <thead>\n",
       "    <tr style=\"text-align: right;\">\n",
       "      <th>SUMMARY</th>\n",
       "      <th>min</th>\n",
       "      <th>stddev</th>\n",
       "      <th>count</th>\n",
       "      <th>max</th>\n",
       "      <th>mean</th>\n",
       "    </tr>\n",
       "  </thead>\n",
       "  <tbody>\n",
       "    <tr>\n",
       "      <th>VALOR_COPAGO</th>\n",
       "      <td>0.0</td>\n",
       "      <td>38894.952851</td>\n",
       "      <td>10541692</td>\n",
       "      <td>24506568.0</td>\n",
       "      <td>998.867731</td>\n",
       "    </tr>\n",
       "    <tr>\n",
       "      <th>VALOR_COMISION</th>\n",
       "      <td>0.0</td>\n",
       "      <td>5694.528228</td>\n",
       "      <td>10541692</td>\n",
       "      <td>7685000.0</td>\n",
       "      <td>61.378287</td>\n",
       "    </tr>\n",
       "    <tr>\n",
       "      <th>VALOR_DESCUENTOS</th>\n",
       "      <td>0.0</td>\n",
       "      <td>57102.681549</td>\n",
       "      <td>10541692</td>\n",
       "      <td>82450120.0</td>\n",
       "      <td>314.445298</td>\n",
       "    </tr>\n",
       "    <tr>\n",
       "      <th>VALOR_FACTURA</th>\n",
       "      <td>1.0</td>\n",
       "      <td>15072829.078649</td>\n",
       "      <td>10541692</td>\n",
       "      <td>3615690000.0</td>\n",
       "      <td>929292.86387</td>\n",
       "    </tr>\n",
       "    <tr>\n",
       "      <th>PERSONAS_UNICAS</th>\n",
       "      <td>0.0</td>\n",
       "      <td>972.216437</td>\n",
       "      <td>10541692</td>\n",
       "      <td>216297.0</td>\n",
       "      <td>521.149141</td>\n",
       "    </tr>\n",
       "    <tr>\n",
       "      <th>...</th>\n",
       "      <td>...</td>\n",
       "      <td>...</td>\n",
       "      <td>...</td>\n",
       "      <td>...</td>\n",
       "      <td>...</td>\n",
       "    </tr>\n",
       "    <tr>\n",
       "      <th>P50_MED_NOPBS_CANTIDAD</th>\n",
       "      <td>0.0</td>\n",
       "      <td>529.294661</td>\n",
       "      <td>10541692</td>\n",
       "      <td>851400.0</td>\n",
       "      <td>1.990783</td>\n",
       "    </tr>\n",
       "    <tr>\n",
       "      <th>MED_NOPBS_VALOR</th>\n",
       "      <td>0.0</td>\n",
       "      <td>1312113.851649</td>\n",
       "      <td>10541692</td>\n",
       "      <td>1694309058.0</td>\n",
       "      <td>39607.356426</td>\n",
       "    </tr>\n",
       "    <tr>\n",
       "      <th>AVG_MED_NOPBS_VALOR</th>\n",
       "      <td>0.0</td>\n",
       "      <td>268868.498447</td>\n",
       "      <td>10541692</td>\n",
       "      <td>115284794.0</td>\n",
       "      <td>8646.003388</td>\n",
       "    </tr>\n",
       "    <tr>\n",
       "      <th>STD_MED_NOPBS_VALOR</th>\n",
       "      <td>0.0</td>\n",
       "      <td>42621.985801</td>\n",
       "      <td>10541692</td>\n",
       "      <td>61010544.005275</td>\n",
       "      <td>497.846088</td>\n",
       "    </tr>\n",
       "    <tr>\n",
       "      <th>P50_MED_NOPBS_VALOR</th>\n",
       "      <td>0.0</td>\n",
       "      <td>268461.318111</td>\n",
       "      <td>10541692</td>\n",
       "      <td>115284794.0</td>\n",
       "      <td>8581.32086</td>\n",
       "    </tr>\n",
       "  </tbody>\n",
       "</table>\n",
       "<p>107 rows × 5 columns</p>\n",
       "</div>"
      ],
      "text/plain": [
       "SUMMARY                 min           stddev     count              max  \\\n",
       "VALOR_COPAGO            0.0     38894.952851  10541692       24506568.0   \n",
       "VALOR_COMISION          0.0      5694.528228  10541692        7685000.0   \n",
       "VALOR_DESCUENTOS        0.0     57102.681549  10541692       82450120.0   \n",
       "VALOR_FACTURA           1.0  15072829.078649  10541692     3615690000.0   \n",
       "PERSONAS_UNICAS         0.0       972.216437  10541692         216297.0   \n",
       "...                     ...              ...       ...              ...   \n",
       "P50_MED_NOPBS_CANTIDAD  0.0       529.294661  10541692         851400.0   \n",
       "MED_NOPBS_VALOR         0.0   1312113.851649  10541692     1694309058.0   \n",
       "AVG_MED_NOPBS_VALOR     0.0    268868.498447  10541692      115284794.0   \n",
       "STD_MED_NOPBS_VALOR     0.0     42621.985801  10541692  61010544.005275   \n",
       "P50_MED_NOPBS_VALOR     0.0    268461.318111  10541692      115284794.0   \n",
       "\n",
       "SUMMARY                         mean  \n",
       "VALOR_COPAGO              998.867731  \n",
       "VALOR_COMISION             61.378287  \n",
       "VALOR_DESCUENTOS          314.445298  \n",
       "VALOR_FACTURA           929292.86387  \n",
       "PERSONAS_UNICAS           521.149141  \n",
       "...                              ...  \n",
       "P50_MED_NOPBS_CANTIDAD      1.990783  \n",
       "MED_NOPBS_VALOR         39607.356426  \n",
       "AVG_MED_NOPBS_VALOR      8646.003388  \n",
       "STD_MED_NOPBS_VALOR       497.846088  \n",
       "P50_MED_NOPBS_VALOR       8581.32086  \n",
       "\n",
       "[107 rows x 5 columns]"
      ]
     },
     "execution_count": 19,
     "metadata": {},
     "output_type": "execute_result"
    }
   ],
   "source": [
    "desc.loc[\"VALOR_COPAGO\":]"
   ]
  },
  {
   "cell_type": "code",
   "execution_count": 20,
   "metadata": {},
   "outputs": [
    {
     "name": "stdout",
     "output_type": "stream",
     "text": [
      "./dataset/dataset.parquet (10541692, 116)\n",
      "CPU times: total: 2min 43s\n",
      "Wall time: 3min 38s\n"
     ]
    }
   ],
   "source": [
    "%%time \n",
    "\n",
    "df = DF.to_pandas()\n",
    "fName = \"./dataset/dataset.parquet\"\n",
    "df.to_parquet(fName)\n",
    "print(fName, df.shape)\n"
   ]
  },
  {
   "cell_type": "code",
   "execution_count": null,
   "metadata": {},
   "outputs": [],
   "source": []
  }
 ],
 "metadata": {
  "kernelspec": {
   "display_name": "Python 3",
   "language": "python",
   "name": "python3"
  },
  "language_info": {
   "codemirror_mode": {
    "name": "ipython",
    "version": 3
   },
   "file_extension": ".py",
   "mimetype": "text/x-python",
   "name": "python",
   "nbconvert_exporter": "python",
   "pygments_lexer": "ipython3",
   "version": "3.10.11"
  }
 },
 "nbformat": 4,
 "nbformat_minor": 2
}
